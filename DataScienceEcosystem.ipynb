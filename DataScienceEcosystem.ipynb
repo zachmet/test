{
 "cells": [
  {
   "cell_type": "markdown",
   "id": "5d94634f-cf4a-4156-8843-98f525d3f3e2",
   "metadata": {},
   "source": [
    "# Data Science Tools and Ecosystem "
   ]
  },
  {
   "cell_type": "markdown",
   "id": "9500e876-867f-4d62-b6f2-0df83751079c",
   "metadata": {},
   "source": [
    "In this notebook, Data Science Tools and Ecosystem are summarized."
   ]
  },
  {
   "cell_type": "markdown",
   "id": "19b0cf36-f3ee-4c1d-bd91-a3cb5ee9ecf1",
   "metadata": {},
   "source": [
    "**Objectives:**\n",
    "- Popular languages for data science\n",
    "- Commonly used libraries for data science\n",
    "- Popular data science tools (IDEs)\n",
    "- Simple arithmetic expression in Python"
   ]
  },
  {
   "cell_type": "markdown",
   "id": "7ebc0a06-8b28-48f1-8ab3-69da61253405",
   "metadata": {},
   "source": [
    "Some of the popular languages that Data Scientists use are:\n",
    "1. Python\n",
    "1. R\n",
    "1. SQL\n",
    "1. Scala\n",
    "1. Julia"
   ]
  },
  {
   "cell_type": "markdown",
   "id": "e4fa6c14-cf4e-45da-94e1-ea6b07e2231b",
   "metadata": {},
   "source": [
    "Some of the commonly used libraries used by Data Scientists include:\n",
    "\n",
    "1. Numpy\n",
    "2. Pandas\n",
    "3. Matplotlib\n",
    "4. Plotly\n",
    "5. Tensorflow"
   ]
  },
  {
   "attachments": {},
   "cell_type": "markdown",
   "id": "25141643-0530-48ec-80e3-29883a355c12",
   "metadata": {},
   "source": [
    "| Data Science Tools |\n",
    "|:------------------:|\n",
    "| JupyterLab/Notebook |\n",
    "| RStudio |\n",
    "| VS Code |\n",
    "| Spyder |"
   ]
  },
  {
   "cell_type": "markdown",
   "id": "1331426e-9bb6-41e2-b890-c1d5b094958c",
   "metadata": {},
   "source": [
    "### Below are a few examples of evaluating arithmetic expressions in Python"
   ]
  },
  {
   "cell_type": "code",
   "execution_count": 2,
   "id": "c083969e-4186-4638-ac6c-ee08b126e7d4",
   "metadata": {},
   "outputs": [
    {
     "name": "stdout",
     "output_type": "stream",
     "text": [
      "17\n"
     ]
    }
   ],
   "source": [
    "#  This a simple arithmetic expression to multiply then add integers\n",
    "a = (3*4)+5\n",
    "print(a)"
   ]
  },
  {
   "cell_type": "code",
   "execution_count": 4,
   "id": "9c3759a0-a122-4460-9dba-f8dcd4725bea",
   "metadata": {},
   "outputs": [
    {
     "name": "stdout",
     "output_type": "stream",
     "text": [
      "200 minutes are 3.3333333333333335 hours\n"
     ]
    }
   ],
   "source": [
    "#  This will convert 200 minutes to hours by diving by 60\n",
    "m = 200\n",
    "h = m/60\n",
    "print( m, \"minutes are\", h, \"hours\")"
   ]
  },
  {
   "cell_type": "markdown",
   "id": "75039609-61e8-4e21-aedf-eed30593ce82",
   "metadata": {},
   "source": [
    "## Author\n"
   ]
  }
 ],
 "metadata": {
  "kernelspec": {
   "display_name": "Python 3 (ipykernel)",
   "language": "python",
   "name": "python3"
  },
  "language_info": {
   "codemirror_mode": {
    "name": "ipython",
    "version": 3
   },
   "file_extension": ".py",
   "mimetype": "text/x-python",
   "name": "python",
   "nbconvert_exporter": "python",
   "pygments_lexer": "ipython3",
   "version": "3.12.8"
  }
 },
 "nbformat": 4,
 "nbformat_minor": 5
}
